{
 "cells": [
  {
   "cell_type": "code",
   "execution_count": 2,
   "metadata": {},
   "outputs": [],
   "source": [
    "import json\n",
    "import os"
   ]
  },
  {
   "cell_type": "code",
   "execution_count": 3,
   "metadata": {},
   "outputs": [],
   "source": [
    "f = open('./jsonDatas/banner-api.json', encoding='utf8')\n",
    "data =json.load(f)\n",
    "apiDatas = data['paths']"
   ]
  },
  {
   "cell_type": "code",
   "execution_count": 8,
   "metadata": {},
   "outputs": [
    {
     "data": {
      "text/plain": [
       "{'401': {'description': 'Unauthorized',\n",
       "  'content': {'application/json': {'schema': {'$ref': '#/components/schemas/ErrorResponse'}}}},\n",
       " '404': {'description': 'Not Found',\n",
       "  'content': {'application/json': {'schema': {'$ref': '#/components/schemas/ErrorResponse'}}}},\n",
       " '400': {'description': 'Bad Request',\n",
       "  'content': {'application/json': {'schema': {'$ref': '#/components/schemas/ErrorResponse'}}}},\n",
       " '500': {'description': 'Internal Server Error',\n",
       "  'content': {'application/json': {'schema': {'$ref': '#/components/schemas/ErrorResponse'}}}},\n",
       " '200': {'description': 'OK',\n",
       "  'content': {'application/json': {'schema': {'$ref': '#/components/schemas/GetBannerCtntListRes'}}}}}"
      ]
     },
     "execution_count": 8,
     "metadata": {},
     "output_type": "execute_result"
    }
   ],
   "source": [
    "apiDatas['/banner/ctnt/{projectCd}/{siteId}']['get']['responses']"
   ]
  },
  {
   "cell_type": "code",
   "execution_count": 5,
   "metadata": {},
   "outputs": [],
   "source": [
    "def printByDepth(element, dataType, description, depth):\n",
    "    priDepth = ' - '  + '    ' * depth\n",
    "    priVal = '{}\\t{}\\t{}\\t{}'.format(element, dataType, 'O',description)\n",
    "    print(priDepth + priVal)\n",
    "\n",
    "def parseSchemaPath(refValue):\n",
    "    # refValue = '#/components/schemas/ErrorResponse'\n",
    "    return refValue.split('/')[3]\n",
    "\n",
    "\n",
    "# schValDic\n",
    "def printResponseByDepth(refKeyOnlyDict, schValDic, depth = 0):\n",
    "    # schValDic\n",
    "    # ex)\n",
    "#     {'ErrorResponse': {'type': 'object',\n",
    "#   'properties': {'httpStatus': {'type': 'integer', 'format': 'int32'},\n",
    "#    'errorMessage': {'type': 'string'},\n",
    "#    'detailMessage': {'type': 'string'},\n",
    "#    'errors': {'type': 'array',\n",
    "#     'items': {'$ref': '#/components/schemas/FieldError'}}}},\n",
    "#  'FieldError': {'type': 'object',\n",
    "#   'properties': {'field': {'type': 'string'},\n",
    "#    'value': {'type': 'string'},\n",
    "#    'reason': {'type': 'string'}}},\n",
    "#  'RegistTbBannerReq': {'required': ['delYn', 'dspCnt'],\n",
    "#   'type': 'object',\n",
    "#   'properties': {'projectCd': {'type': 'string',\n",
    "#     'description': '프로젝트코드',\n",
    "#     'nullable': True,\n",
    "#     'example': 'BCWW'},\n",
    "#    'siteId': {'type': 'integer',\n",
    "#     'description': '사이트ID',\n",
    "#     'format': 'int32',\n",
    "#     'nullable': True},\n",
    "#    'bannerLocCd': {'type': 'string',\n",
    "#     'description': '배너위치코드(BLC)',\n",
    "#     'nullable': True,\n",
    "#     'example': 'BLC004'},\n",
    "#    'imgPath': {'type': 'string',\n",
    "    refValue = refKeyOnlyDict['$ref'] # '#/components/schemas/ErrorResponse'\n",
    "    schName = parseSchemaPath(refValue)\n",
    "    schVal = schValDic[schName]\n",
    "    # schVal ex\n",
    "    # {'type': 'object',\n",
    "#   'properties': {'httpStatus': {'type': 'integer', 'format': 'int32'},\n",
    "#    'errorMessage': {'type': 'string'},\n",
    "#    'detailMessage': {'type': 'string'},\n",
    "    # }\n",
    "    for propertyName in schVal['properties'].keys():\n",
    "        propertyValueDict = schVal['properties'][propertyName]\n",
    "        element = propertyName\n",
    "        if 'type' in propertyValueDict:\n",
    "            dataType = propertyValueDict['type']\n",
    "        elif '$ref' in propertyValueDict:\n",
    "            dataType = 'Object'\n",
    "        else:\n",
    "            dataType = '_'\n",
    "        if 'description' in propertyValueDict:\n",
    "            description = propertyValueDict['description']\n",
    "        else:\n",
    "            description = '_'\n",
    "        printByDepth(element, dataType, description, depth)\n",
    "        if 'items' in propertyValueDict:\n",
    "            if '$ref' in propertyValueDict['items']:\n",
    "                printResponseByDepth({\n",
    "                    '$ref':propertyValueDict['items']['$ref']\n",
    "                }, schValDic, depth+1)\n",
    "        if '$ref' in propertyValueDict:\n",
    "            printResponseByDepth({\n",
    "                    '$ref':propertyValueDict['$ref']\n",
    "                }, schValDic, depth+1)\n",
    "        \n"
   ]
  },
  {
   "cell_type": "code",
   "execution_count": 1,
   "metadata": {},
   "outputs": [],
   "source": [
    "# ex1\n",
    "# printResponseByDepth(apiDatas['/banner/ctnt/{projectCd}/{siteId}']['get']['responses']['200']['content']['application/json']['schema'],\n",
    "#                      data['components']['schemas'])\n",
    "# ex2\n",
    "# printResponseByDepth(apiDatas['/tb/banner/{bannerNo}']['get']['responses']['200']['content']['application/json']['schema'],\n",
    "#                      data['components']['schemas'])"
   ]
  },
  {
   "cell_type": "code",
   "execution_count": 6,
   "metadata": {},
   "outputs": [
    {
     "name": "stdout",
     "output_type": "stream",
     "text": [
      " - listBannerCtnt\tarray\tO\t배너컨텐츠리스트\n",
      " -     bannerNo\tinteger\tO\t배너번호\n",
      " -     projectCd\tstring\tO\t프로젝트코트\n",
      " -     siteId\tinteger\tO\t사이트아이디\n",
      " -     bannerLocCd\tstring\tO\t배너위치코드(BLC)\n",
      " -     dspStartDate\tstring\tO\t노출시작일자\n",
      " -     dspStartTime\tstring\tO\t노출시작시간\n",
      " -     dspEndDate\tstring\tO\t노출종료일자\n",
      " -     dspEndTime\tstring\tO\t노출종료시간\n",
      " -     companyNo\tinteger\tO\t기업번호\n",
      " -     dspOrder\tinteger\tO\t표시순서\n",
      " -     dspCnt\tinteger\tO\t노출수\n",
      " -     masImgPath\tstring\tO\tmaster이미지경로\n",
      " -     masLinkUrl\tstring\tO\tmaster링크URL\n",
      " -     masTemp1\tstring\tO\tmaster임시1\n",
      " -     masTemp2\tstring\tO\tmaster임시2\n",
      " -     masTemp3\tstring\tO\tmaster임시3\n",
      " -     masTemp4\tstring\tO\tmaster임시4\n",
      " -     masTemp5\tstring\tO\tmaster임시5\n",
      " -     attachGrpCd\tstring\tO\t첨부그룹코드\n",
      " -     langCd\tstring\tO\t언어코드\n",
      " -     bannerNm\tstring\tO\t배너명\n",
      " -     companyNm\tstring\tO\t기업명\n",
      " -     introduction\tstring\tO\t설명\n",
      " -     ctntType\tstring\tO\t콘텐츠유형\n",
      " -     ctntPath\tstring\tO\t콘텐츠경로\n",
      " -     detImgPath\tstring\tO\tdetail이미지경로\n",
      " -     detLinkUrl\tstring\tO\tdetail링크URL\n",
      " -     detTemp1\tstring\tO\tdetail임시1\n",
      " -     detTemp2\tstring\tO\tdetail임시2\n",
      " -     detTemp3\tstring\tO\tdetail임시3\n",
      " -     detTemp4\tstring\tO\tdetail임시4\n",
      " -     detTemp5\tstring\tO\tdetail임시5\n",
      " -     bannerDetailSubSeq\tinteger\tO\t배너 상세 추가 순번\n",
      " -     typeNm\tstring\tO\t유형명\n",
      " -     masterCd\tstring\tO\t마스터코드\n",
      " -     value1\tstring\tO\t값1\n",
      " -     value2\tstring\tO\t값2\n",
      " -     value3\tstring\tO\t값3\n",
      " -     value4\tstring\tO\t값4\n",
      " -     value5\tstring\tO\t값5\n",
      " -     subTemp1\tstring\tO\t임시1\n",
      " -     subTemp2\tstring\tO\t임시2\n",
      " -     subTemp3\tstring\tO\t임시3\n",
      " -     subTemp4\tstring\tO\t임시4\n",
      " -     subTemp5\tstring\tO\t임시5\n",
      " - totalCount\tinteger\tO\t배너컨텐츠총개수\n"
     ]
    }
   ],
   "source": [
    "printResponseByDepth(apiDatas['/banner/ctnt/{projectCd}/{siteId}']['get']['responses']['200']['content']['application/json']['schema'],\n",
    "                     data['components']['schemas'])"
   ]
  },
  {
   "cell_type": "code",
   "execution_count": null,
   "metadata": {},
   "outputs": [],
   "source": []
  }
 ],
 "metadata": {
  "kernelspec": {
   "display_name": "Python 3",
   "language": "python",
   "name": "python3"
  },
  "language_info": {
   "codemirror_mode": {
    "name": "ipython",
    "version": 3
   },
   "file_extension": ".py",
   "mimetype": "text/x-python",
   "name": "python",
   "nbconvert_exporter": "python",
   "pygments_lexer": "ipython3",
   "version": "3.10.9"
  },
  "orig_nbformat": 4
 },
 "nbformat": 4,
 "nbformat_minor": 2
}
